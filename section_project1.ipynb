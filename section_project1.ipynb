{
  "nbformat": 4,
  "nbformat_minor": 0,
  "metadata": {
    "colab": {
      "name": "프로젝트.ipynb",
      "private_outputs": true,
      "provenance": [],
      "collapsed_sections": []
    },
    "kernelspec": {
      "name": "python3",
      "display_name": "Python 3"
    },
    "language_info": {
      "name": "python"
    }
  },
  "cells": [
    {
      "cell_type": "markdown",
      "source": [
        "# Section 1 Project"
      ],
      "metadata": {
        "id": "8mGmD9zyG7Tj"
      }
    },
    {
      "cell_type": "markdown",
      "source": [
        "# 1. 데이터 탐색"
      ],
      "metadata": {
        "id": "ap-_R9-1HAcE"
      }
    },
    {
      "cell_type": "code",
      "source": [
        "import pandas as pd\n",
        "import numpy as np\n",
        "import seaborn as sns\n",
        "import matplotlib.pyplot as plt\n",
        "from scipy import stats\n",
        "from sklearn.preprocessing import MinMaxScaler"
      ],
      "metadata": {
        "id": "-_XjysUwGbXD"
      },
      "execution_count": null,
      "outputs": []
    },
    {
      "cell_type": "code",
      "execution_count": null,
      "metadata": {
        "id": "5c1Y18anGPKJ"
      },
      "outputs": [],
      "source": [
        "df = pd.read_csv('https://ds-lecture-data.s3.ap-northeast-2.amazonaws.com/datasets/vgames2.csv',index_col = 0)"
      ]
    },
    {
      "cell_type": "code",
      "source": [
        "df.head()"
      ],
      "metadata": {
        "id": "5D4ODs87GjXz"
      },
      "execution_count": null,
      "outputs": []
    },
    {
      "cell_type": "markdown",
      "source": [
        "Data Description  \n",
        "Name : 게임의 이름입니다.  \n",
        "Platform : 게임이 지원되는 플랫폼의 이름입니다.  \n",
        "Year : 게임이 출시된 연도입니다.  \n",
        "Genre : 게임의 장르입니다.  \n",
        "Publisher : 게임을 제작한 회사입니다.  \n",
        "NA_Sales : 북미지역에서의 출고량입니다.  \n",
        "EU_Sales : 유럽지역에서의 출고량입니다.  \n",
        "JP_Sales : 일본지역에서의 출고량입니다.  \n",
        "Other_Sales : 기타지역에서의 출고량입니다."
      ],
      "metadata": {
        "id": "eKkMldt2GmBc"
      }
    },
    {
      "cell_type": "code",
      "source": [
        "df.info()"
      ],
      "metadata": {
        "id": "3wKeRL7VGwWK"
      },
      "execution_count": null,
      "outputs": []
    },
    {
      "cell_type": "code",
      "source": [
        "df[df.duplicated()] # 중복확인"
      ],
      "metadata": {
        "id": "WJY-tjat2Yib"
      },
      "execution_count": null,
      "outputs": []
    },
    {
      "cell_type": "code",
      "source": [
        "df[df['Name'] == 'Wii de Asobu: Metroid Prime']"
      ],
      "metadata": {
        "id": "wxh0IBRw4u8U"
      },
      "execution_count": null,
      "outputs": []
    },
    {
      "cell_type": "code",
      "source": [
        "df = df.drop_duplicates().reset_index(drop=True)"
      ],
      "metadata": {
        "id": "DJyboy6G48ic"
      },
      "execution_count": null,
      "outputs": []
    },
    {
      "cell_type": "code",
      "source": [
        "df.isnull().sum()"
      ],
      "metadata": {
        "id": "UhP7xRNuIbZD"
      },
      "execution_count": null,
      "outputs": []
    },
    {
      "cell_type": "code",
      "source": [
        "df = df.dropna().reset_index(drop=True)"
      ],
      "metadata": {
        "id": "F3Dd22svFra1"
      },
      "execution_count": null,
      "outputs": []
    },
    {
      "cell_type": "code",
      "source": [
        "df['Year'].astype(object).unique()"
      ],
      "metadata": {
        "id": "CC0lgityIE2S"
      },
      "execution_count": null,
      "outputs": []
    },
    {
      "cell_type": "code",
      "source": [
        "df['NA_Sales'].astype(object).unique()"
      ],
      "metadata": {
        "id": "ecyWM3Wx5fen"
      },
      "execution_count": null,
      "outputs": []
    },
    {
      "cell_type": "markdown",
      "source": [
        "# 2.데이터 전처리"
      ],
      "metadata": {
        "id": "fMphjmq-6git"
      }
    },
    {
      "cell_type": "markdown",
      "source": [
        "#### 1.Sales열 단위 맞추기"
      ],
      "metadata": {
        "id": "EmvsT2clIXuI"
      }
    },
    {
      "cell_type": "code",
      "source": [
        "# Sales 컬럼들에서 K를 *1e-3으로 M을 *1로 replace하여 eval함수를 이용하여 value들을 연산한다.\n",
        "df['NA_Sales'] = df['NA_Sales'].replace({'K': '*1e-3', 'M': '*1'}, regex=True).map(pd.eval).round(2) #round로 floating point 방지\n",
        "df['EU_Sales'] = df['EU_Sales'].replace({'K': '*1e-3', 'M': '*1'}, regex=True).map(pd.eval).round(2)\n",
        "df['JP_Sales'] = df['JP_Sales'].replace({'K': '*1e-3', 'M': '*1'}, regex=True).map(pd.eval).round(2)\n",
        "df['Other_Sales'] = df['Other_Sales'].replace({'K': '*1e-3', 'M': '*1'}, regex=True).map(pd.eval).round(2)"
      ],
      "metadata": {
        "id": "6kdiSjye6gkp"
      },
      "execution_count": null,
      "outputs": []
    },
    {
      "cell_type": "markdown",
      "source": [
        "#### 2.Year열 단위 맞추기"
      ],
      "metadata": {
        "id": "95ZO2_G_IsIY"
      }
    },
    {
      "cell_type": "code",
      "source": [
        "# Year열 value 단위 맞추기\n",
        "# Year열의 NaN값과 관계없이 사용될 수 있는 데이터가 있을 수 있기 때문에 dropna로 처리하지 않는다.\n",
        "def float_to_year(x):\n",
        "    if len(str(x)) < 4:         # Year의 Value를 string으로 봤을때 길이가 4 미만인 것만 선택\n",
        "        if x < 22:              # 22년도 이전은 +2000년\n",
        "            return x + 2000\n",
        "        elif x > 23:            # 23년도 이후는 +1900년\n",
        "            return x + 1900\n",
        "    else:\n",
        "        return x                # 해당사항 없을 경우 그대로 리턴\n",
        "\n",
        "df['Year'] = df['Year'].astype(int)\n",
        "df['Year'] = df['Year'].apply(float_to_year)\n",
        "df"
      ],
      "metadata": {
        "id": "D6Un50BKww-0"
      },
      "execution_count": null,
      "outputs": []
    },
    {
      "cell_type": "code",
      "source": [
        "df['Year'].unique()"
      ],
      "metadata": {
        "id": "1mMsyjLzzNlW"
      },
      "execution_count": null,
      "outputs": []
    },
    {
      "cell_type": "markdown",
      "source": [
        "#### 3.Total Sales 추가"
      ],
      "metadata": {
        "id": "SommvAyCIyh4"
      }
    },
    {
      "cell_type": "code",
      "source": [
        "sales = df.loc[:,'NA_Sales':'Other_Sales']\n",
        "df['Total_Sales'] = sales.sum(axis=1)\n",
        "df"
      ],
      "metadata": {
        "id": "pJ_Ma5GGFEC0"
      },
      "execution_count": null,
      "outputs": []
    },
    {
      "cell_type": "markdown",
      "source": [
        "#### 4.데이터 부족한 연도 제거\n",
        "2015년도 이후 데이터는 데이터 분석에 적절하지 않을 것 같다고 판단"
      ],
      "metadata": {
        "id": "s4nj6sn8I3X1"
      }
    },
    {
      "cell_type": "code",
      "source": [
        "total_sales_group = df[['Year','Total_Sales']].groupby(['Year'])\n",
        "total_sales_group = total_sales_group.sum().reset_index()"
      ],
      "metadata": {
        "id": "erfe26IFG7cW"
      },
      "execution_count": null,
      "outputs": []
    },
    {
      "cell_type": "code",
      "source": [
        "plt.figure(figsize = (20,8))\n",
        "sns.barplot(\n",
        "    data= total_sales_group,\n",
        "    x= \"Year\",\n",
        "    y= \"Total_Sales\"\n",
        ")"
      ],
      "metadata": {
        "id": "27jy5eZsHKu_"
      },
      "execution_count": null,
      "outputs": []
    },
    {
      "cell_type": "code",
      "source": [
        "df = df.drop(df[df['Year'] > 2015].index).reset_index(drop = True)"
      ],
      "metadata": {
        "id": "SsQimYLBJZFT"
      },
      "execution_count": null,
      "outputs": []
    },
    {
      "cell_type": "code",
      "source": [
        "df['Year'].unique()"
      ],
      "metadata": {
        "id": "IGdQeTbZKOfQ"
      },
      "execution_count": null,
      "outputs": []
    },
    {
      "cell_type": "code",
      "source": [
        "df.shape"
      ],
      "metadata": {
        "id": "btfjTxYAnbAF"
      },
      "execution_count": null,
      "outputs": []
    },
    {
      "cell_type": "markdown",
      "source": [
        "# 3.데이터 분석"
      ],
      "metadata": {
        "id": "aYbJcmIeI5Kj"
      }
    },
    {
      "cell_type": "markdown",
      "source": [
        "## 1.지역에 따라서 선호하는 게임 장르가 다를까?"
      ],
      "metadata": {
        "id": "vO1PbuKQJSwz"
      }
    },
    {
      "cell_type": "code",
      "source": [
        "df_genre = df[['Genre','NA_Sales','EU_Sales','JP_Sales','Other_Sales']]\n",
        "df_genre = df_genre.dropna().reset_index(drop=True)\n",
        "df_genre.head()"
      ],
      "metadata": {
        "id": "bR08kvKa5diN"
      },
      "execution_count": null,
      "outputs": []
    },
    {
      "cell_type": "code",
      "source": [
        "df_genre_group = df_genre.groupby(['Genre']).sum().reset_index()\n",
        "df_genre_group"
      ],
      "metadata": {
        "id": "AJWXS09-56YD"
      },
      "execution_count": null,
      "outputs": []
    },
    {
      "cell_type": "code",
      "source": [
        "genre_melt = df_genre_group.melt(id_vars='Genre', value_vars=['NA_Sales','EU_Sales','JP_Sales','Other_Sales'], var_name='Country', value_name='Sales')\n",
        "genre_melt"
      ],
      "metadata": {
        "id": "x8D8CxttjACV"
      },
      "execution_count": null,
      "outputs": []
    },
    {
      "cell_type": "code",
      "source": [
        "plt.figure(figsize = (10,10))\n",
        "sns.barplot(x=\"Country\", y=\"Sales\",hue=\"Genre\", data=genre_melt)"
      ],
      "metadata": {
        "id": "sGf5EeLvhed4"
      },
      "execution_count": null,
      "outputs": []
    },
    {
      "cell_type": "markdown",
      "source": [
        "#### 등분산성\n",
        "귀무가설 : 등분산이다.  \n",
        "대립가설 : 이분산이다."
      ],
      "metadata": {
        "id": "0SZFWAjJ7fli"
      }
    },
    {
      "cell_type": "code",
      "source": [
        "NA_Sales = df_genre_group['NA_Sales']\n",
        "EU_Sales = df_genre_group['EU_Sales']\n",
        "JP_Sales = df_genre_group['JP_Sales']\n",
        "Other_Sales = df_genre_group['Other_Sales']"
      ],
      "metadata": {
        "id": "zrCNg6IifFAr"
      },
      "execution_count": null,
      "outputs": []
    },
    {
      "cell_type": "code",
      "source": [
        "plt.xlabel(\"Sales\")\n",
        "sns.kdeplot(data=NA_Sales, color=\"red\", shade=True)\n",
        "sns.kdeplot(data=EU_Sales, color=\"blue\", shade=True)\n",
        "sns.kdeplot(data=JP_Sales, color=\"green\", shade=True)\n",
        "sns.kdeplot(data=Other_Sales, color=\"purple\", shade=True)\n",
        "plt.show()"
      ],
      "metadata": {
        "id": "b87-zv8c1xmb"
      },
      "execution_count": null,
      "outputs": []
    },
    {
      "cell_type": "code",
      "source": [
        "stats.levene(NA_Sales, EU_Sales, JP_Sales, Other_Sales) # pvalue < 0.05, 이분산이다."
      ],
      "metadata": {
        "id": "ADrB6P6L46QV"
      },
      "execution_count": null,
      "outputs": []
    },
    {
      "cell_type": "code",
      "source": [
        "stats.levene(NA_Sales, EU_Sales) # pvalue > 0.05, 등분산이다."
      ],
      "metadata": {
        "id": "7zXTHFeN5LaC"
      },
      "execution_count": null,
      "outputs": []
    },
    {
      "cell_type": "code",
      "source": [
        "stats.levene(NA_Sales, JP_Sales) # pvalue < 0.05, 이분산이다."
      ],
      "metadata": {
        "id": "QIye6n0P7e9-"
      },
      "execution_count": null,
      "outputs": []
    },
    {
      "cell_type": "code",
      "source": [
        "stats.levene(NA_Sales, Other_Sales) # pvalue < 0.05, 이분산이다."
      ],
      "metadata": {
        "id": "MSks6H-v9GDV"
      },
      "execution_count": null,
      "outputs": []
    },
    {
      "cell_type": "code",
      "source": [
        "stats.levene(EU_Sales, JP_Sales) # pvalue > 0.05, 등분산이다."
      ],
      "metadata": {
        "id": "WnAwej_i9Iny"
      },
      "execution_count": null,
      "outputs": []
    },
    {
      "cell_type": "code",
      "source": [
        "stats.levene(EU_Sales, Other_Sales) # pvalue < 0.05, 이분산이다."
      ],
      "metadata": {
        "id": "hpDR43Dd7fAR"
      },
      "execution_count": null,
      "outputs": []
    },
    {
      "cell_type": "code",
      "source": [
        "stats.levene(JP_Sales, Other_Sales) # pvalue > 0.05, 등분산이다."
      ],
      "metadata": {
        "id": "JPXXiOO67fCZ"
      },
      "execution_count": null,
      "outputs": []
    },
    {
      "cell_type": "code",
      "source": [
        "stats.levene(EU_Sales, JP_Sales, Other_Sales) # pvalue > 0.05, 등분산이다."
      ],
      "metadata": {
        "id": "ruOHJHdV9E5m"
      },
      "execution_count": null,
      "outputs": []
    },
    {
      "cell_type": "markdown",
      "source": [
        "#### Anova 검정\n",
        "귀무가설: 집단의 평균이 유의미하다.  \n",
        "대립가설: 집단의 평균(최소 1개 집단 이상)은 유의미하지 않다."
      ],
      "metadata": {
        "id": "ZeviZvNdgA-F"
      }
    },
    {
      "cell_type": "code",
      "source": [
        "stats.f_oneway(NA_Sales, EU_Sales, JP_Sales, Other_Sales) # pvalue < 0.05 귀무가설 기각"
      ],
      "metadata": {
        "id": "VXTbVCRVecN3"
      },
      "execution_count": null,
      "outputs": []
    },
    {
      "cell_type": "code",
      "source": [
        "stats.f_oneway(NA_Sales, JP_Sales) # pvalue < 0.05 귀무가설 기각, 두 나라의 선호하는 게임 장르가 다르다."
      ],
      "metadata": {
        "id": "nzCAP19QlxNz"
      },
      "execution_count": null,
      "outputs": []
    },
    {
      "cell_type": "code",
      "source": [
        "stats.f_oneway(NA_Sales, EU_Sales) # pvalue > 0.05 귀무가설 채택, 두 나라의 선호하는 게임 장르가 유사하다."
      ],
      "metadata": {
        "id": "RbHMLh5blWvC"
      },
      "execution_count": null,
      "outputs": []
    },
    {
      "cell_type": "code",
      "source": [
        "stats.f_oneway(NA_Sales, Other_Sales) # pvalue < 0.05 귀무가설 기각, 두 나라의 선호하는 게임 장르가 다르다."
      ],
      "metadata": {
        "id": "PkA_EM0G91vL"
      },
      "execution_count": null,
      "outputs": []
    },
    {
      "cell_type": "code",
      "source": [
        "stats.f_oneway(EU_Sales, JP_Sales) # pvalue > 0.05  귀무가설 채택, 두 나라의 선호하는 게임 장르가 유사하다."
      ],
      "metadata": {
        "id": "geWf5CC4lxQA"
      },
      "execution_count": null,
      "outputs": []
    },
    {
      "cell_type": "code",
      "source": [
        "stats.f_oneway(EU_Sales, Other_Sales) # pvalue < 0.05 귀무가설 기각, 두 나라의 선호하는 게임 장르가 다르다."
      ],
      "metadata": {
        "id": "TIiCfJrN95V5"
      },
      "execution_count": null,
      "outputs": []
    },
    {
      "cell_type": "code",
      "source": [
        "stats.f_oneway(JP_Sales, Other_Sales) # pvalue > 0.05 귀무가설 채택, 두 나라의 선호하는 게임 장르가 유사하다."
      ],
      "metadata": {
        "id": "WLJSi3VblxSW"
      },
      "execution_count": null,
      "outputs": []
    },
    {
      "cell_type": "code",
      "source": [
        "stats.f_oneway(EU_Sales, JP_Sales, Other_Sales) # pvalue < 0.05 귀무가설 기각, 세 나라의 선호하는 게임 장르가 다르다."
      ],
      "metadata": {
        "id": "WSKPDLH5-QVG"
      },
      "execution_count": null,
      "outputs": []
    },
    {
      "cell_type": "markdown",
      "source": [
        "## 2.연도별 게임의 트렌드가 있을까?"
      ],
      "metadata": {
        "id": "lo1gxGd2JNfp"
      }
    },
    {
      "cell_type": "code",
      "source": [
        "def groupby_df(column_name):\n",
        "    title = df[['Year','Total_Sales',column_name]]\n",
        "    group = title.groupby(['Year',column_name])\n",
        "    multi_index = group.sum().reset_index()\n",
        "    return multi_index"
      ],
      "metadata": {
        "id": "n08L_n0hMKMF"
      },
      "execution_count": null,
      "outputs": []
    },
    {
      "cell_type": "markdown",
      "source": [
        "#### 1.연도별 플랫폼 트렌드"
      ],
      "metadata": {
        "id": "7xsH9-CJn30F"
      }
    },
    {
      "cell_type": "code",
      "source": [
        "data1 = groupby_df('Platform')"
      ],
      "metadata": {
        "id": "AXeJ_mBgM0sP"
      },
      "execution_count": null,
      "outputs": []
    },
    {
      "cell_type": "code",
      "source": [
        "for i in data1['Platform'].unique():\n",
        "    data = data1[data1['Platform'] == i]\n",
        "    plt.figure(figsize = (3,3))\n",
        "    sns.lineplot(\n",
        "        data= data,\n",
        "        x= \"Year\",\n",
        "        y= \"Total_Sales\",\n",
        "        hue =\"Platform\"\n",
        "    )"
      ],
      "metadata": {
        "id": "lQ4sDuWNsZ-7"
      },
      "execution_count": null,
      "outputs": []
    },
    {
      "cell_type": "code",
      "source": [
        "plt.figure(figsize = (30,10))\n",
        "sns.lineplot(\n",
        "    data= data1,\n",
        "    x= \"Year\",\n",
        "    y= \"Total_Sales\",\n",
        "    hue =\"Platform\"\n",
        ")"
      ],
      "metadata": {
        "id": "zGOVdq8GLaqf"
      },
      "execution_count": null,
      "outputs": []
    },
    {
      "cell_type": "markdown",
      "source": [
        "#### 2.연도별 장르 트렌드"
      ],
      "metadata": {
        "id": "z2COipIqn0MH"
      }
    },
    {
      "cell_type": "code",
      "source": [
        "data2 = groupby_df('Genre')"
      ],
      "metadata": {
        "id": "FUp4q6n3o23F"
      },
      "execution_count": null,
      "outputs": []
    },
    {
      "cell_type": "code",
      "source": [
        "for i in data2['Genre'].unique():\n",
        "    data = data2[data2['Genre'] == i]\n",
        "    plt.figure(figsize = (3,3))\n",
        "    sns.lineplot(\n",
        "        data= data,\n",
        "        x= \"Year\",\n",
        "        y= \"Total_Sales\",\n",
        "        hue =\"Genre\"\n",
        "    )"
      ],
      "metadata": {
        "id": "4_YNYJjGq5OO"
      },
      "execution_count": null,
      "outputs": []
    },
    {
      "cell_type": "code",
      "source": [
        "plt.figure(figsize = (30,10))\n",
        "sns.lineplot(\n",
        "    data= data2,\n",
        "    x= \"Year\",\n",
        "    y= \"Total_Sales\",\n",
        "    hue =\"Genre\"\n",
        ")"
      ],
      "metadata": {
        "id": "5iqUveTmOEsv"
      },
      "execution_count": null,
      "outputs": []
    },
    {
      "cell_type": "markdown",
      "source": [
        "## 3.출고량이 높은 게임에 대한 분석 및 시각화 프로세스"
      ],
      "metadata": {
        "id": "lmbMmCiFJXKZ"
      }
    },
    {
      "cell_type": "code",
      "source": [
        "df['Total_Sales'].sort_values(ascending=False).describe()"
      ],
      "metadata": {
        "id": "3VRXkUPwQLWx"
      },
      "execution_count": null,
      "outputs": []
    },
    {
      "cell_type": "markdown",
      "source": [
        "### 3-1.2011~2015년 출고량 100만부 이상"
      ],
      "metadata": {
        "id": "r9WxZh7KSLaV"
      }
    },
    {
      "cell_type": "code",
      "source": [
        "df1 = df[df['Year'] >= 2011]\n",
        "df1['Total_Sales'].describe()"
      ],
      "metadata": {
        "id": "7cWR2M9hVF8w"
      },
      "execution_count": null,
      "outputs": []
    },
    {
      "cell_type": "code",
      "source": [
        "df1 = df1[df1['Total_Sales'] >= 1].sort_values('Total_Sales',ascending=False).reset_index(drop=True)\n",
        "df1"
      ],
      "metadata": {
        "id": "io8mkrbqVEZz"
      },
      "execution_count": null,
      "outputs": []
    },
    {
      "cell_type": "code",
      "source": [
        "df1[['Year']].value_counts()"
      ],
      "metadata": {
        "id": "c5MC78mBvdXk"
      },
      "execution_count": null,
      "outputs": []
    },
    {
      "cell_type": "markdown",
      "source": [
        "#### 3-1-1.연도별 장르"
      ],
      "metadata": {
        "id": "VGhk96_2WtfW"
      }
    },
    {
      "cell_type": "code",
      "source": [
        "plt.figure(figsize=(30, 10))\n",
        "\n",
        "ax = sns.countplot(x=\"Year\", data=df1, hue='Genre', order=[2011, 2012, 2013, 2014, 2015])\n",
        "for p in ax.patches:\n",
        "   ax.annotate(p.get_height(), (p.get_x(), p.get_height()))"
      ],
      "metadata": {
        "id": "tjJKGG4gWd1y"
      },
      "execution_count": null,
      "outputs": []
    },
    {
      "cell_type": "markdown",
      "source": [
        "#### 3-1-2.연도별 플랫폼"
      ],
      "metadata": {
        "id": "SzhaiEO9Xg7o"
      }
    },
    {
      "cell_type": "code",
      "source": [
        "plt.figure(figsize=(30, 10))\n",
        "ax = sns.countplot(x=\"Year\", data=df1, hue='Platform', order=[2011, 2012, 2013, 2014, 2015])\n",
        "for p in ax.patches:\n",
        "   ax.annotate(p.get_height(), (p.get_x(), p.get_height())) #p.get_height() : 높이 = count값, (p.get_x(), p.get_height()) : display 위치 "
      ],
      "metadata": {
        "id": "SALKPjBcXg9o"
      },
      "execution_count": null,
      "outputs": []
    },
    {
      "cell_type": "markdown",
      "source": [
        "# 추가분석"
      ],
      "metadata": {
        "id": "SLZ0rfbeezeh"
      }
    },
    {
      "cell_type": "code",
      "source": [
        "df2 = df[df['Year'] >= 2010]\n",
        "df2"
      ],
      "metadata": {
        "id": "tw_PBh-qe3b-"
      },
      "execution_count": null,
      "outputs": []
    },
    {
      "cell_type": "code",
      "source": [
        "def groupby_df2(column_name):\n",
        "    title = df2[['Year','Total_Sales',column_name]]\n",
        "    group = title.groupby(['Year',column_name])\n",
        "    multi_index = group.sum().reset_index()\n",
        "    return multi_index"
      ],
      "metadata": {
        "id": "N-yS3UoLfGh2"
      },
      "execution_count": null,
      "outputs": []
    },
    {
      "cell_type": "code",
      "source": [
        "data1 = groupby_df2('Genre')\n",
        "data1 = data1.pivot_table(index = 'Genre', columns = 'Year', values = 'Total_Sales', aggfunc='first').reset_index()"
      ],
      "metadata": {
        "id": "oKSNJmwdfUk1"
      },
      "execution_count": null,
      "outputs": []
    },
    {
      "cell_type": "code",
      "source": [
        "data1"
      ],
      "metadata": {
        "id": "Ismgnvsii1vO"
      },
      "execution_count": null,
      "outputs": []
    },
    {
      "cell_type": "code",
      "source": [
        "data2 = data1[[2010,2011,2012,2013,2014,2015]]"
      ],
      "metadata": {
        "id": "mXyCs-C91pj1"
      },
      "execution_count": null,
      "outputs": []
    },
    {
      "cell_type": "code",
      "source": [
        "def yearonyear(df):\n",
        "    new_df = pd.DataFrame()\n",
        "    for i in range(df.shape[1]-1):\n",
        "        value = ((df[df.columns[i+1]] / df[df.columns[i]]) * 100).round(1)\n",
        "        new_df[df.columns[i+1]] = value\n",
        "    return new_df"
      ],
      "metadata": {
        "id": "79tpumsszUnX"
      },
      "execution_count": null,
      "outputs": []
    },
    {
      "cell_type": "code",
      "source": [
        "def yearonyear(df):\n",
        "    new_df = pd.DataFrame()\n",
        "    for i in range(df.shape[1]-1):\n",
        "        value = ((df[df.columns[i+1]] / df[df.columns[i]]) * 100).round(1)\n",
        "        new_df[df.columns[i+1]] = value\n",
        "\n",
        "    latest_year = df[df.columns[df.shape[1]-1]]\n",
        "    first_year = df[df.columns[0]]\n",
        "    l2f = ((latest_year / first_year) * 100).round(1) #마지막 열 데이터 / 첫번째 열 데이터\n",
        "    new_df['l/f'] = l2f\n",
        "    return new_df"
      ],
      "metadata": {
        "id": "Ft9ct_p43U0-"
      },
      "execution_count": null,
      "outputs": []
    },
    {
      "cell_type": "code",
      "source": [
        "yoy = yearonyear(data2)"
      ],
      "metadata": {
        "id": "z58-9BhW0JO_"
      },
      "execution_count": null,
      "outputs": []
    },
    {
      "cell_type": "code",
      "source": [
        "yoy.insert(0,'Genre',data1['Genre'])\n",
        "yoy"
      ],
      "metadata": {
        "id": "Z95xYlzr2NHp"
      },
      "execution_count": null,
      "outputs": []
    },
    {
      "cell_type": "code",
      "source": [
        "yoy_ = yoy[['Genre',2011,2012,2013,2014,2015]]"
      ],
      "metadata": {
        "id": "LlAr6D_H8Mdh"
      },
      "execution_count": null,
      "outputs": []
    },
    {
      "cell_type": "code",
      "source": [
        "yoy_melt = yoy_.melt(id_vars='Genre', value_vars=[2011,2012,2013,2014,2015], var_name='Year', value_name='yoy')\n",
        "yoy_melt"
      ],
      "metadata": {
        "id": "M94bBPV98AIM"
      },
      "execution_count": null,
      "outputs": []
    },
    {
      "cell_type": "code",
      "source": [
        "plt.figure(figsize = (30,10))\n",
        "sns.lineplot(\n",
        "    data= yoy_melt,\n",
        "    x= \"Year\",\n",
        "    y= \"yoy\",\n",
        "    hue =\"Genre\"\n",
        ")"
      ],
      "metadata": {
        "id": "5HBi8JsN2xow"
      },
      "execution_count": null,
      "outputs": []
    },
    {
      "cell_type": "markdown",
      "source": [
        "# 1. 2011년 이후 100만부 이상 판매"
      ],
      "metadata": {
        "id": "IW6e0aY1-jFQ"
      }
    },
    {
      "cell_type": "code",
      "source": [
        "df3 = df[df['Year'] >= 2011].reset_index(drop=True)\n",
        "df3"
      ],
      "metadata": {
        "id": "_d7FHPJAAt5M"
      },
      "execution_count": null,
      "outputs": []
    },
    {
      "cell_type": "markdown",
      "source": [
        "## 1-1. 연도별 국가단위 소비 추이"
      ],
      "metadata": {
        "id": "AXVo0dIu_vyc"
      }
    },
    {
      "cell_type": "code",
      "source": [
        "year_sales = df3[['Year','NA_Sales', 'EU_Sales', 'JP_Sales', 'Other_Sales','Total_Sales']]"
      ],
      "metadata": {
        "id": "JvXcU5y0A3w3"
      },
      "execution_count": null,
      "outputs": []
    },
    {
      "cell_type": "code",
      "source": [
        "country_group = year_sales.groupby(['Year']).sum().reset_index()"
      ],
      "metadata": {
        "id": "spFVKSDgA-_Q"
      },
      "execution_count": null,
      "outputs": []
    },
    {
      "cell_type": "code",
      "source": [
        "country_melt = country_group.melt(id_vars='Year', value_vars=['NA_Sales','EU_Sales','JP_Sales','Other_Sales','Total_Sales'], var_name='Country', value_name='Sales')\n",
        "country_melt.head()"
      ],
      "metadata": {
        "id": "hH9HAoZyBiRg"
      },
      "execution_count": null,
      "outputs": []
    },
    {
      "cell_type": "code",
      "source": [
        "plt.figure(figsize=(15, 10))\n",
        "ax = sns.barplot(\n",
        "    data = country_melt,\n",
        "    x = \"Country\",\n",
        "    y = \"Sales\",\n",
        "    hue = \"Year\"\n",
        ")\n",
        "for p in ax.patches:\n",
        "   ax.annotate(p.get_height().round(1), (p.get_x(), p.get_height()+1)) #p.get_height() : 높이 = count값, (p.get_x(), p.get_height()) : display 위치 "
      ],
      "metadata": {
        "id": "55hDrENeBk2o"
      },
      "execution_count": null,
      "outputs": []
    },
    {
      "cell_type": "markdown",
      "source": [
        "## 1-2. 추가분석\n",
        "출고량이 상대적으로 높은 게임들을 제거하고 비교해도 전체적인 출고량이 줄어들고 있는지 확인."
      ],
      "metadata": {
        "id": "6Jfgir450r9H"
      }
    },
    {
      "cell_type": "code",
      "source": [
        "df[df['Total_Sales'] >= 5].shape"
      ],
      "metadata": {
        "id": "BkinMqiv09HG"
      },
      "execution_count": null,
      "outputs": []
    },
    {
      "cell_type": "code",
      "source": [
        "df_drop = df[df['Total_Sales'] <= 2].reset_index(drop=True)"
      ],
      "metadata": {
        "id": "fMR44wYD08aY"
      },
      "execution_count": null,
      "outputs": []
    },
    {
      "cell_type": "code",
      "source": [
        "df_drop = df_drop[df_drop['Year'] >= 2011]\n",
        "year_sales = df_drop[['Year','NA_Sales', 'EU_Sales', 'JP_Sales', 'Other_Sales','Total_Sales']]"
      ],
      "metadata": {
        "id": "DbcWHSml1K_r"
      },
      "execution_count": null,
      "outputs": []
    },
    {
      "cell_type": "code",
      "source": [
        "country_group = year_sales.groupby(['Year']).sum().reset_index()"
      ],
      "metadata": {
        "id": "lA7uQfho1Ie5"
      },
      "execution_count": null,
      "outputs": []
    },
    {
      "cell_type": "code",
      "source": [
        "country_melt = country_group.melt(id_vars='Year', value_vars=['NA_Sales','EU_Sales','JP_Sales','Other_Sales','Total_Sales'], var_name='Country', value_name='Sales')"
      ],
      "metadata": {
        "id": "oVjBRSjN1IkH"
      },
      "execution_count": null,
      "outputs": []
    },
    {
      "cell_type": "code",
      "source": [
        "plt.figure(figsize=(15, 10))\n",
        "ax = sns.barplot(\n",
        "    data = country_melt,\n",
        "    x = \"Country\",\n",
        "    y = \"Sales\",\n",
        "    hue = \"Year\"\n",
        ")\n",
        "for p in ax.patches:\n",
        "   ax.annotate(p.get_height().round(1), (p.get_x(), p.get_height()+1)) #p.get_height() : 높이 = count값, (p.get_x(), p.get_height()) : display 위치 "
      ],
      "metadata": {
        "id": "70GhojXZ1bbQ"
      },
      "execution_count": null,
      "outputs": []
    },
    {
      "cell_type": "markdown",
      "source": [
        "# 2. 국가별 선호 Genre"
      ],
      "metadata": {
        "id": "1AaskJWF-jIT"
      }
    },
    {
      "cell_type": "code",
      "source": [
        "genre_sales = df3[['Year', 'Genre', 'NA_Sales', 'EU_Sales', 'JP_Sales', 'Other_Sales','Total_Sales']]"
      ],
      "metadata": {
        "id": "8v4YYIJdEm0M"
      },
      "execution_count": null,
      "outputs": []
    },
    {
      "cell_type": "code",
      "source": [
        "genre_sales"
      ],
      "metadata": {
        "id": "i8nN7FjUExxK"
      },
      "execution_count": null,
      "outputs": []
    },
    {
      "cell_type": "code",
      "source": [
        "genre_group = genre_sales.groupby(['Genre','Year']).sum().reset_index()"
      ],
      "metadata": {
        "id": "9BEKBWwdFB29"
      },
      "execution_count": null,
      "outputs": []
    },
    {
      "cell_type": "code",
      "source": [
        "genre_group"
      ],
      "metadata": {
        "id": "GdDPmP0lFGLu"
      },
      "execution_count": null,
      "outputs": []
    },
    {
      "cell_type": "code",
      "source": [
        "def genre_barplot(df, genre):\n",
        "    each_genre = df[df['Genre'] == genre]\n",
        "    drop_index = each_genre.drop(['Genre'],axis=1)\n",
        "    df_melt = drop_index.melt(id_vars='Year', value_vars=['NA_Sales','EU_Sales','JP_Sales','Other_Sales','Total_Sales'], var_name='Country', value_name='Sales')\n",
        "\n",
        "    plt.figure(figsize=(15, 10))\n",
        "    ax = sns.barplot(\n",
        "        data = df_melt,\n",
        "        x = \"Country\",\n",
        "        y = \"Sales\",\n",
        "        hue = \"Year\"\n",
        "    )\n",
        "    # for p in ax.patches:\n",
        "    #     ax.annotate(p.get_height().round(1), (p.get_x(), p.get_height()))\n",
        "    ax.set_title(genre)"
      ],
      "metadata": {
        "id": "EkgUlXDSKKl4"
      },
      "execution_count": null,
      "outputs": []
    },
    {
      "cell_type": "code",
      "source": [
        "genre_group['Genre'].unique()"
      ],
      "metadata": {
        "id": "jCBL-qpHGOtg"
      },
      "execution_count": null,
      "outputs": []
    },
    {
      "cell_type": "code",
      "source": [
        "for i in range(12):\n",
        "    genre_barplot(genre_group, genre_group['Genre'].unique()[i])"
      ],
      "metadata": {
        "id": "Odtq5k-RL7c8"
      },
      "execution_count": null,
      "outputs": []
    },
    {
      "cell_type": "markdown",
      "source": [
        "# 3. 국가별 선호 Platform"
      ],
      "metadata": {
        "id": "WBeywCZa-t91"
      }
    },
    {
      "cell_type": "code",
      "source": [
        "platform_sales = df3[['Year', 'Platform', 'NA_Sales', 'EU_Sales', 'JP_Sales', 'Other_Sales','Total_Sales']]"
      ],
      "metadata": {
        "id": "1kje6u36Ahbj"
      },
      "execution_count": null,
      "outputs": []
    },
    {
      "cell_type": "code",
      "source": [
        "platform_group = platform_sales.groupby(['Platform','Year']).sum().reset_index()"
      ],
      "metadata": {
        "id": "SGv_4VhUAhed"
      },
      "execution_count": null,
      "outputs": []
    },
    {
      "cell_type": "code",
      "source": [
        "def platform_barplot(df, platform):\n",
        "    each_platform = df[df['Platform'] == platform]\n",
        "    drop_index = each_platform.drop(['Platform'],axis=1)\n",
        "    df_melt = drop_index.melt(id_vars='Year', value_vars=['NA_Sales','EU_Sales','JP_Sales','Other_Sales','Total_Sales'], var_name='Country', value_name='Sales')\n",
        "\n",
        "    plt.figure(figsize=(15, 10))\n",
        "    ax = sns.barplot(\n",
        "        data = df_melt,\n",
        "        x = \"Country\",\n",
        "        y = \"Sales\",\n",
        "        hue = \"Year\"\n",
        "    )\n",
        "    # for p in ax.patches:\n",
        "    #     ax.annotate(p.get_height().round(1), (p.get_x(), p.get_height()))\n",
        "    ax.set_title(platform)"
      ],
      "metadata": {
        "id": "t_Q0qOR7AhgF"
      },
      "execution_count": null,
      "outputs": []
    },
    {
      "cell_type": "code",
      "source": [
        "platform_group['Platform'].unique()"
      ],
      "metadata": {
        "id": "nj9KyNTWNM5y"
      },
      "execution_count": null,
      "outputs": []
    },
    {
      "cell_type": "code",
      "source": [
        "platform_group"
      ],
      "metadata": {
        "id": "74N8fK42Nkq9"
      },
      "execution_count": null,
      "outputs": []
    },
    {
      "cell_type": "code",
      "source": [
        "for i in range(12):\n",
        "    platform_barplot(platform_group, platform_group['Platform'].unique()[i])"
      ],
      "metadata": {
        "id": "XTZuEUNjNSK3"
      },
      "execution_count": null,
      "outputs": []
    },
    {
      "cell_type": "markdown",
      "source": [
        "# 4.2011~2015 국가별 장르 판매량 추이(기울기)"
      ],
      "metadata": {
        "id": "nzg_PHb3-8qX"
      }
    },
    {
      "cell_type": "code",
      "source": [
        "def increase_genre(df, genre):\n",
        "    sales_list = ['NA_Sales','EU_Sales','JP_Sales','Other_Sales','Total_Sales']\n",
        "\n",
        "    each_genre = df[df['Genre'] == genre]\n",
        "    drop_index = each_genre.drop(['Genre'],axis=1)\n",
        "    df_melt = drop_index.melt(id_vars='Year', value_vars=sales_list, var_name='Country', value_name='Sales')\n",
        "\n",
        "    temp = []\n",
        "    for i in sales_list:\n",
        "        each_country = df_melt[df_melt['Country'] == i]\n",
        "        \n",
        "        index = [x for x in range(len(each_country['Sales']))]\n",
        "        data = each_country['Sales']\n",
        "        \n",
        "        coeffs = np.polyfit(index, list(data), 1)\n",
        "        slope = coeffs[-2].round(2)\n",
        "\n",
        "        temp.append(slope)\n",
        "    return temp"
      ],
      "metadata": {
        "id": "ZdooTEw9POLe"
      },
      "execution_count": null,
      "outputs": []
    },
    {
      "cell_type": "code",
      "source": [
        "def increase_country(df):\n",
        "    country_list = ['NA_Sales','EU_Sales','JP_Sales','Other_Sales','Total_Sales']\n",
        "    temp = []\n",
        "    for i in country_list:\n",
        "        each_country = df[df['Country'] == i]\n",
        "        index = [x for x in range(len(each_country['Sales']))]\n",
        "        data = each_country['Sales']\n",
        "        coeffs = np.polyfit(index, list(data), 1)\n",
        "        slope = coeffs[-2].round(2)\n",
        "        temp.append(slope)\n",
        "    return temp"
      ],
      "metadata": {
        "id": "-o7A2yIFWGn9"
      },
      "execution_count": null,
      "outputs": []
    },
    {
      "cell_type": "code",
      "source": [
        "total_increase = increase_country(country_melt)"
      ],
      "metadata": {
        "id": "j_6a4LecWtOF"
      },
      "execution_count": null,
      "outputs": []
    },
    {
      "cell_type": "code",
      "source": [
        "print('Genre',['NA_Sales','EU_Sales','JP_Sales','Other_Sales','Total_Sales'])\n",
        "print('Total',total_increase)\n",
        "for i in range(12):\n",
        "    genre_name = genre_group['Genre'].unique()[i]\n",
        "    print(genre_name, increase_genre(genre_group, genre_name))"
      ],
      "metadata": {
        "id": "zqd_uRTHUEQv"
      },
      "execution_count": null,
      "outputs": []
    },
    {
      "cell_type": "code",
      "source": [
        "data = {'Genre': [], 'NA_Sales': [], 'EU_Sales': [], 'JP_Sales': [], 'Other_Sales': [], 'Total_Sales': []}\n",
        "df_increase = pd.DataFrame(data=data)"
      ],
      "metadata": {
        "id": "IecsE9kRbDKm"
      },
      "execution_count": null,
      "outputs": []
    },
    {
      "cell_type": "code",
      "source": [
        "total_increase.insert(0, 'Total')\n",
        "df_increase.loc[0] = total_increase"
      ],
      "metadata": {
        "id": "WRZXO_rObqDd"
      },
      "execution_count": null,
      "outputs": []
    },
    {
      "cell_type": "code",
      "source": [
        "for i in range(12):\n",
        "    genre_name = genre_group['Genre'].unique()[i]\n",
        "    row_data = increase_genre(genre_group, genre_name)\n",
        "    row_data.insert(0,genre_name)\n",
        "    df_increase.loc[i+1] = row_data"
      ],
      "metadata": {
        "id": "t373wUzucwPj"
      },
      "execution_count": null,
      "outputs": []
    },
    {
      "cell_type": "code",
      "source": [
        "df_increase"
      ],
      "metadata": {
        "id": "NADeCFjVb7mZ"
      },
      "execution_count": null,
      "outputs": []
    },
    {
      "cell_type": "code",
      "source": [
        "melt = df_increase.melt(id_vars='Genre', value_vars=['NA_Sales','EU_Sales','JP_Sales','Other_Sales','Total_Sales'], var_name='Country', value_name='Degree')\n",
        "melt"
      ],
      "metadata": {
        "id": "GJIFGgR125kM"
      },
      "execution_count": null,
      "outputs": []
    },
    {
      "cell_type": "code",
      "source": [
        "plt.figure(figsize=(15, 10))\n",
        "ax = sns.barplot(\n",
        "    data = melt,\n",
        "    x = \"Country\",\n",
        "    y = \"Degree\",\n",
        "    hue = \"Genre\"\n",
        ")"
      ],
      "metadata": {
        "id": "tbjE9ilN3Nju"
      },
      "execution_count": null,
      "outputs": []
    },
    {
      "cell_type": "code",
      "source": [
        "def sort_increase(df, country):\n",
        "    increase_mean = df[country].loc[1:12].mean()\n",
        "    increase = df[df[country] >= increase_mean]\n",
        "    return  increase.sort_values(by = country,ascending=False)"
      ],
      "metadata": {
        "id": "fWD9T30Fiokj"
      },
      "execution_count": null,
      "outputs": []
    },
    {
      "cell_type": "code",
      "source": [
        "sort_increase(df_increase, 'NA_Sales')"
      ],
      "metadata": {
        "id": "rxeHRv8Ui3iR"
      },
      "execution_count": null,
      "outputs": []
    },
    {
      "cell_type": "code",
      "source": [
        "sort_increase(df_increase, 'EU_Sales')"
      ],
      "metadata": {
        "id": "_HMB8FeJjEIg"
      },
      "execution_count": null,
      "outputs": []
    },
    {
      "cell_type": "code",
      "source": [
        "sort_increase(df_increase, 'JP_Sales')"
      ],
      "metadata": {
        "id": "mRnpFmNPjEKa"
      },
      "execution_count": null,
      "outputs": []
    },
    {
      "cell_type": "code",
      "source": [
        "sort_increase(df_increase, 'Other_Sales')"
      ],
      "metadata": {
        "id": "IgzjzpZqjEMQ"
      },
      "execution_count": null,
      "outputs": []
    },
    {
      "cell_type": "code",
      "source": [
        "sort_increase(df_increase, 'Total_Sales')"
      ],
      "metadata": {
        "id": "1xYA41nogZwh"
      },
      "execution_count": null,
      "outputs": []
    }
  ]
}