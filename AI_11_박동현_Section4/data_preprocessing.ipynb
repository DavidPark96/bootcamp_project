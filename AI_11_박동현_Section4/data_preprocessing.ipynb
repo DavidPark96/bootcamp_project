{
 "cells": [
  {
   "cell_type": "markdown",
   "id": "d0a58fcf",
   "metadata": {},
   "source": [
    "# 전처리"
   ]
  },
  {
   "cell_type": "code",
   "execution_count": 1,
   "id": "fe164562",
   "metadata": {
    "ExecuteTime": {
     "end_time": "2022-05-23T11:26:30.139014Z",
     "start_time": "2022-05-23T11:26:29.643347Z"
    }
   },
   "outputs": [],
   "source": [
    "import glob \n",
    "import json \n",
    "import os \n",
    "import pandas as pd\n",
    "from tqdm import tqdm "
   ]
  },
  {
   "cell_type": "code",
   "execution_count": 2,
   "id": "ae6000ab",
   "metadata": {
    "ExecuteTime": {
     "end_time": "2022-05-23T08:15:32.456868Z",
     "start_time": "2022-05-23T08:15:32.442869Z"
    }
   },
   "outputs": [],
   "source": [
    "def json2list(path):\n",
    "    json_list = glob.glob(path) #경로에 있는 모든 파일 리스트로 저장\n",
    "    text = []\n",
    "    summary = []\n",
    "    for i in tqdm(json_list):\n",
    "        try:\n",
    "            file = open(i,'r',encoding='utf-8') #저장된 인코더에 따라 수정 필요\n",
    "            js = json.loads(file.read()) \n",
    "            js['passage'] = js['passage'].replace('\\n', '') # 전처리\n",
    "            text.append(js['passage'])\n",
    "            summary.append(js['summary'])\n",
    "        except:\n",
    "            pass\n",
    "    return text,summary"
   ]
  },
  {
   "cell_type": "code",
   "execution_count": 3,
   "id": "328039a3",
   "metadata": {
    "ExecuteTime": {
     "end_time": "2022-05-23T08:15:32.471870Z",
     "start_time": "2022-05-23T08:15:32.457867Z"
    }
   },
   "outputs": [],
   "source": [
    "def list2json(save_path,data_list):\n",
    "    with open(save_path, 'w', encoding='utf-8') as file:\n",
    "        json.dump(data_list, file, ensure_ascii=False)"
   ]
  },
  {
   "cell_type": "markdown",
   "id": "55d93b04",
   "metadata": {},
   "source": [
    "## 실행"
   ]
  },
  {
   "cell_type": "code",
   "execution_count": 4,
   "id": "6c262854",
   "metadata": {
    "ExecuteTime": {
     "end_time": "2022-05-23T08:15:49.356461Z",
     "start_time": "2022-05-23T08:15:32.474868Z"
    }
   },
   "outputs": [
    {
     "name": "stderr",
     "output_type": "stream",
     "text": [
      "100%|████████████████████████████████████████████████████████████████████████| 115440/115440 [00:16<00:00, 7075.86it/s]\n"
     ]
    }
   ],
   "source": [
    "data_path = './book_data/social_science/*'\n",
    "text1,summary1 = json2list(data_path)"
   ]
  },
  {
   "cell_type": "code",
   "execution_count": 5,
   "id": "81b57194",
   "metadata": {
    "ExecuteTime": {
     "end_time": "2022-05-23T08:15:51.328594Z",
     "start_time": "2022-05-23T08:15:49.357491Z"
    }
   },
   "outputs": [
    {
     "name": "stderr",
     "output_type": "stream",
     "text": [
      "100%|██████████████████████████████████████████████████████████████████████████| 13891/13891 [00:01<00:00, 7346.17it/s]\n"
     ]
    }
   ],
   "source": [
    "data_path = './book_data/art/*'\n",
    "text2,summary2 = json2list(data_path)"
   ]
  },
  {
   "cell_type": "code",
   "execution_count": 6,
   "id": "278b63f9",
   "metadata": {
    "ExecuteTime": {
     "end_time": "2022-05-23T08:15:52.289481Z",
     "start_time": "2022-05-23T08:15:51.329589Z"
    }
   },
   "outputs": [
    {
     "name": "stderr",
     "output_type": "stream",
     "text": [
      "100%|████████████████████████████████████████████████████████████████████████████| 6753/6753 [00:00<00:00, 7381.19it/s]\n"
     ]
    }
   ],
   "source": [
    "data_path = './book_data/etc/*'\n",
    "text3,summary3 = json2list(data_path)"
   ]
  },
  {
   "cell_type": "code",
   "execution_count": 7,
   "id": "2a291110",
   "metadata": {
    "ExecuteTime": {
     "end_time": "2022-05-23T08:15:55.904127Z",
     "start_time": "2022-05-23T08:15:52.290481Z"
    }
   },
   "outputs": [
    {
     "name": "stderr",
     "output_type": "stream",
     "text": [
      "100%|██████████████████████████████████████████████████████████████████████████| 23918/23918 [00:03<00:00, 6888.26it/s]\n"
     ]
    }
   ],
   "source": [
    "data_path = './book_data/tech_science/*'\n",
    "text4,summary4 = json2list(data_path)"
   ]
  },
  {
   "cell_type": "code",
   "execution_count": 8,
   "id": "96f31f63",
   "metadata": {
    "ExecuteTime": {
     "end_time": "2022-05-23T08:15:55.934664Z",
     "start_time": "2022-05-23T08:15:55.904633Z"
    }
   },
   "outputs": [],
   "source": [
    "text = text1 + text2 + text3 + text4\n",
    "summary = summary1 + summary2 + summary3 + summary4"
   ]
  },
  {
   "cell_type": "code",
   "execution_count": 9,
   "id": "d515e8c3",
   "metadata": {
    "ExecuteTime": {
     "end_time": "2022-05-23T08:15:56.040497Z",
     "start_time": "2022-05-23T08:15:55.935673Z"
    }
   },
   "outputs": [],
   "source": [
    "df = pd.DataFrame((zip(text, summary)), columns = ['text', 'summary'])"
   ]
  },
  {
   "cell_type": "code",
   "execution_count": 10,
   "id": "b74c508d",
   "metadata": {
    "ExecuteTime": {
     "end_time": "2022-05-23T08:15:59.168292Z",
     "start_time": "2022-05-23T08:15:56.043494Z"
    }
   },
   "outputs": [],
   "source": [
    "df.to_csv('./book_data/train.csv', encoding='utf-8-sig',index=False)"
   ]
  },
  {
   "cell_type": "code",
   "execution_count": 3,
   "id": "02ca90e4",
   "metadata": {
    "ExecuteTime": {
     "end_time": "2022-05-23T11:27:04.054391Z",
     "start_time": "2022-05-23T11:27:00.749127Z"
    }
   },
   "outputs": [],
   "source": [
    "df = pd.read_csv('./book_data/train.csv')"
   ]
  },
  {
   "cell_type": "code",
   "execution_count": 8,
   "id": "b714431c",
   "metadata": {
    "ExecuteTime": {
     "end_time": "2022-05-23T11:28:11.756104Z",
     "start_time": "2022-05-23T11:28:11.730102Z"
    }
   },
   "outputs": [],
   "source": [
    "from sklearn.model_selection import train_test_split\n",
    "X_train, X_test = train_test_split(df, test_size=0.9, shuffle=True, random_state=1004)"
   ]
  },
  {
   "cell_type": "code",
   "execution_count": 9,
   "id": "ae5d09fe",
   "metadata": {
    "ExecuteTime": {
     "end_time": "2022-05-23T11:28:13.607269Z",
     "start_time": "2022-05-23T11:28:13.594256Z"
    }
   },
   "outputs": [
    {
     "data": {
      "text/html": [
       "<div>\n",
       "<style scoped>\n",
       "    .dataframe tbody tr th:only-of-type {\n",
       "        vertical-align: middle;\n",
       "    }\n",
       "\n",
       "    .dataframe tbody tr th {\n",
       "        vertical-align: top;\n",
       "    }\n",
       "\n",
       "    .dataframe thead th {\n",
       "        text-align: right;\n",
       "    }\n",
       "</style>\n",
       "<table border=\"1\" class=\"dataframe\">\n",
       "  <thead>\n",
       "    <tr style=\"text-align: right;\">\n",
       "      <th></th>\n",
       "      <th>text</th>\n",
       "      <th>summary</th>\n",
       "    </tr>\n",
       "  </thead>\n",
       "  <tbody>\n",
       "    <tr>\n",
       "      <th>124291</th>\n",
       "      <td>영국 Tate 미술관은 트위터, 페이스북, 유튜브, 플리커, 포스퀘어 등 평균 6~...</td>\n",
       "      <td>영국 테이트 미술관은 소셜미디어 채널을 공식적으로 운영하며 각 채널의 특성에 맞는 ...</td>\n",
       "    </tr>\n",
       "    <tr>\n",
       "      <th>101143</th>\n",
       "      <td>향후 중국은 한반도 비핵화와 급변하는 한반도 상황에 대응하기 위해 다음과 같은 노력...</td>\n",
       "      <td>중국은 한반도 비핵화와 급변하는 한반도에 대응하기 위해, 북･미 정상회담 지지를 강...</td>\n",
       "    </tr>\n",
       "    <tr>\n",
       "      <th>137058</th>\n",
       "      <td>그 후에 환경청은 1977년, 1978년, 1979년에 거듭 공청회 개최의 의무를 ...</td>\n",
       "      <td>환경청은 1977~9년에 걸쳐 공청회 개최를 삭제했으며 반대의견도 수렴하여 환경영향...</td>\n",
       "    </tr>\n",
       "    <tr>\n",
       "      <th>19697</th>\n",
       "      <td>「어린이집 및 이용자 통계」를 분기(3월, 6월, 9월, 12월 말 기준)로 생산하...</td>\n",
       "      <td>'어린이집 및 이용자 통계' 생성을 연1회에서 연4회로 변경하려면 통계 생산 인력과...</td>\n",
       "    </tr>\n",
       "    <tr>\n",
       "      <th>23556</th>\n",
       "      <td>먼저 교통 측면에서는 ‘벌이 버스’에 대한 소식이 흥미롭다. 벌이 버스란 개인들이 ...</td>\n",
       "      <td>교통측면에서 국영철도의 운영 부실로 사경제 활동에 필요한 사람, 화물 운송에 서비차...</td>\n",
       "    </tr>\n",
       "    <tr>\n",
       "      <th>...</th>\n",
       "      <td>...</td>\n",
       "      <td>...</td>\n",
       "    </tr>\n",
       "    <tr>\n",
       "      <th>155662</th>\n",
       "      <td>EHR핵심공통기술연구개발사업단(EHR사업단)은 개인의 진료 정보를 필요할 때 언제 ...</td>\n",
       "      <td>EHR핵심공통기술연구개발사업단은 평생전자건강기록을 구축하기 위한 기술 개발을 위해 ...</td>\n",
       "    </tr>\n",
       "    <tr>\n",
       "      <th>155847</th>\n",
       "      <td>국내 현실에 부합하며 문화적 특성을 감안한 한국형 우울증 진단 기준 마련을 위한 연...</td>\n",
       "      <td>한국형 우울증 진단 기준을 위한 실태조사와 유관기관의 자료를 연계하여 연구할 수 있...</td>\n",
       "    </tr>\n",
       "    <tr>\n",
       "      <th>79795</th>\n",
       "      <td>지침서에 따르면, 호출형 근로계약은 “노동수요가 불규칙하거나 항시적으로 직원이 필요...</td>\n",
       "      <td>호출형 근로계약은 기업의 경우 신규 사업이나 시즌성 사업처럼 노동수요가 규칙적이지 ...</td>\n",
       "    </tr>\n",
       "    <tr>\n",
       "      <th>13637</th>\n",
       "      <td>북한을 방문하기 위하여 통일부장관으로부터 남북교류협력에 관한 법률이 규정하는 방북승...</td>\n",
       "      <td>국가보안법 제6조에 방북 승인을 받은 경우에 방문증명서를 갖고 방문 행위를 한다면 ...</td>\n",
       "    </tr>\n",
       "    <tr>\n",
       "      <th>48130</th>\n",
       "      <td>지식재산권법과 경쟁법간의 집중은 둘 중의 어느 하나에게 우월한 지위나 가치를 부여하...</td>\n",
       "      <td>특허 등 지식재산권법과 독점규제법 등 경쟁법 사이의 조화와 집중이 필요하다. 지식재...</td>\n",
       "    </tr>\n",
       "  </tbody>\n",
       "</table>\n",
       "<p>16000 rows × 2 columns</p>\n",
       "</div>"
      ],
      "text/plain": [
       "                                                     text  \\\n",
       "124291  영국 Tate 미술관은 트위터, 페이스북, 유튜브, 플리커, 포스퀘어 등 평균 6~...   \n",
       "101143  향후 중국은 한반도 비핵화와 급변하는 한반도 상황에 대응하기 위해 다음과 같은 노력...   \n",
       "137058  그 후에 환경청은 1977년, 1978년, 1979년에 거듭 공청회 개최의 의무를 ...   \n",
       "19697   「어린이집 및 이용자 통계」를 분기(3월, 6월, 9월, 12월 말 기준)로 생산하...   \n",
       "23556   먼저 교통 측면에서는 ‘벌이 버스’에 대한 소식이 흥미롭다. 벌이 버스란 개인들이 ...   \n",
       "...                                                   ...   \n",
       "155662  EHR핵심공통기술연구개발사업단(EHR사업단)은 개인의 진료 정보를 필요할 때 언제 ...   \n",
       "155847  국내 현실에 부합하며 문화적 특성을 감안한 한국형 우울증 진단 기준 마련을 위한 연...   \n",
       "79795   지침서에 따르면, 호출형 근로계약은 “노동수요가 불규칙하거나 항시적으로 직원이 필요...   \n",
       "13637   북한을 방문하기 위하여 통일부장관으로부터 남북교류협력에 관한 법률이 규정하는 방북승...   \n",
       "48130   지식재산권법과 경쟁법간의 집중은 둘 중의 어느 하나에게 우월한 지위나 가치를 부여하...   \n",
       "\n",
       "                                                  summary  \n",
       "124291  영국 테이트 미술관은 소셜미디어 채널을 공식적으로 운영하며 각 채널의 특성에 맞는 ...  \n",
       "101143  중국은 한반도 비핵화와 급변하는 한반도에 대응하기 위해, 북･미 정상회담 지지를 강...  \n",
       "137058  환경청은 1977~9년에 걸쳐 공청회 개최를 삭제했으며 반대의견도 수렴하여 환경영향...  \n",
       "19697   '어린이집 및 이용자 통계' 생성을 연1회에서 연4회로 변경하려면 통계 생산 인력과...  \n",
       "23556   교통측면에서 국영철도의 운영 부실로 사경제 활동에 필요한 사람, 화물 운송에 서비차...  \n",
       "...                                                   ...  \n",
       "155662  EHR핵심공통기술연구개발사업단은 평생전자건강기록을 구축하기 위한 기술 개발을 위해 ...  \n",
       "155847  한국형 우울증 진단 기준을 위한 실태조사와 유관기관의 자료를 연계하여 연구할 수 있...  \n",
       "79795   호출형 근로계약은 기업의 경우 신규 사업이나 시즌성 사업처럼 노동수요가 규칙적이지 ...  \n",
       "13637   국가보안법 제6조에 방북 승인을 받은 경우에 방문증명서를 갖고 방문 행위를 한다면 ...  \n",
       "48130   특허 등 지식재산권법과 독점규제법 등 경쟁법 사이의 조화와 집중이 필요하다. 지식재...  \n",
       "\n",
       "[16000 rows x 2 columns]"
      ]
     },
     "execution_count": 9,
     "metadata": {},
     "output_type": "execute_result"
    }
   ],
   "source": [
    "X_train"
   ]
  },
  {
   "cell_type": "code",
   "execution_count": 10,
   "id": "68397d0a",
   "metadata": {
    "ExecuteTime": {
     "end_time": "2022-05-23T11:28:38.129547Z",
     "start_time": "2022-05-23T11:28:37.811463Z"
    }
   },
   "outputs": [],
   "source": [
    "X_train.to_csv('./book_data/train2.csv', encoding='utf-8-sig',index=False)"
   ]
  },
  {
   "cell_type": "markdown",
   "id": "63b68567",
   "metadata": {},
   "source": [
    "# validation"
   ]
  },
  {
   "cell_type": "code",
   "execution_count": 11,
   "id": "13fa2e41",
   "metadata": {
    "ExecuteTime": {
     "end_time": "2022-05-23T08:16:01.050470Z",
     "start_time": "2022-05-23T08:15:59.169207Z"
    }
   },
   "outputs": [
    {
     "name": "stderr",
     "output_type": "stream",
     "text": [
      "100%|██████████████████████████████████████████████████████████████████████████| 14430/14430 [00:01<00:00, 8002.03it/s]\n"
     ]
    }
   ],
   "source": [
    "data_path = './book_data_validation/social_science/*'\n",
    "text1,summary1 = json2list(data_path)"
   ]
  },
  {
   "cell_type": "code",
   "execution_count": 12,
   "id": "88186773",
   "metadata": {
    "ExecuteTime": {
     "end_time": "2022-05-23T08:16:01.290504Z",
     "start_time": "2022-05-23T08:16:01.051472Z"
    }
   },
   "outputs": [
    {
     "name": "stderr",
     "output_type": "stream",
     "text": [
      "100%|████████████████████████████████████████████████████████████████████████████| 1736/1736 [00:00<00:00, 7889.76it/s]\n"
     ]
    }
   ],
   "source": [
    "data_path = './book_data_validation/art/*'\n",
    "text2,summary2 = json2list(data_path)"
   ]
  },
  {
   "cell_type": "code",
   "execution_count": 13,
   "id": "afc69faf",
   "metadata": {
    "ExecuteTime": {
     "end_time": "2022-05-23T08:16:01.426472Z",
     "start_time": "2022-05-23T08:16:01.291497Z"
    }
   },
   "outputs": [
    {
     "name": "stderr",
     "output_type": "stream",
     "text": [
      "100%|██████████████████████████████████████████████████████████████████████████████| 844/844 [00:00<00:00, 7745.27it/s]\n"
     ]
    }
   ],
   "source": [
    "data_path = './book_data_validation/etc/*'\n",
    "text3,summary3 = json2list(data_path)"
   ]
  },
  {
   "cell_type": "code",
   "execution_count": 14,
   "id": "9889d1a4",
   "metadata": {
    "ExecuteTime": {
     "end_time": "2022-05-23T08:16:01.862400Z",
     "start_time": "2022-05-23T08:16:01.427471Z"
    }
   },
   "outputs": [
    {
     "name": "stderr",
     "output_type": "stream",
     "text": [
      "100%|████████████████████████████████████████████████████████████████████████████| 2989/2989 [00:00<00:00, 7381.03it/s]\n"
     ]
    }
   ],
   "source": [
    "data_path = './book_data_validation/tech_science/*'\n",
    "text4,summary4 = json2list(data_path)"
   ]
  },
  {
   "cell_type": "code",
   "execution_count": 15,
   "id": "f4b93778",
   "metadata": {
    "ExecuteTime": {
     "end_time": "2022-05-23T08:16:01.877400Z",
     "start_time": "2022-05-23T08:16:01.863399Z"
    }
   },
   "outputs": [],
   "source": [
    "text = text1 + text2 + text3 + text4\n",
    "summary = summary1 + summary2 + summary3 + summary4"
   ]
  },
  {
   "cell_type": "code",
   "execution_count": 16,
   "id": "af8f0331",
   "metadata": {
    "ExecuteTime": {
     "end_time": "2022-05-23T08:16:01.937433Z",
     "start_time": "2022-05-23T08:16:01.878403Z"
    }
   },
   "outputs": [],
   "source": [
    "df = pd.DataFrame((zip(text, summary)), columns = ['text', 'summary'])"
   ]
  },
  {
   "cell_type": "code",
   "execution_count": 17,
   "id": "98be4224",
   "metadata": {
    "ExecuteTime": {
     "end_time": "2022-05-23T08:16:02.311763Z",
     "start_time": "2022-05-23T08:16:01.938399Z"
    }
   },
   "outputs": [],
   "source": [
    "df.to_csv('./book_data_validation/validation.csv', encoding='utf-8-sig',index=False)"
   ]
  },
  {
   "cell_type": "code",
   "execution_count": 11,
   "id": "24d7b4b4",
   "metadata": {
    "ExecuteTime": {
     "end_time": "2022-05-23T11:30:11.018945Z",
     "start_time": "2022-05-23T11:30:10.602530Z"
    }
   },
   "outputs": [],
   "source": [
    "df = pd.read_csv('./book_data_validation/validation.csv')"
   ]
  },
  {
   "cell_type": "code",
   "execution_count": 12,
   "id": "b3cf0b45",
   "metadata": {
    "ExecuteTime": {
     "end_time": "2022-05-23T11:30:14.681626Z",
     "start_time": "2022-05-23T11:30:14.665627Z"
    }
   },
   "outputs": [],
   "source": [
    "from sklearn.model_selection import train_test_split\n",
    "X_train, X_test = train_test_split(df, test_size=0.9, shuffle=True, random_state=1004)"
   ]
  },
  {
   "cell_type": "code",
   "execution_count": 13,
   "id": "44d1c33b",
   "metadata": {
    "ExecuteTime": {
     "end_time": "2022-05-23T11:30:24.493489Z",
     "start_time": "2022-05-23T11:30:24.450405Z"
    }
   },
   "outputs": [],
   "source": [
    "X_train.to_csv('./book_data_validation/validation2.csv', encoding='utf-8-sig',index=False)"
   ]
  }
 ],
 "metadata": {
  "kernelspec": {
   "display_name": "Python 3 (ipykernel)",
   "language": "python",
   "name": "python3"
  },
  "language_info": {
   "codemirror_mode": {
    "name": "ipython",
    "version": 3
   },
   "file_extension": ".py",
   "mimetype": "text/x-python",
   "name": "python",
   "nbconvert_exporter": "python",
   "pygments_lexer": "ipython3",
   "version": "3.8.12"
  },
  "toc": {
   "base_numbering": 1,
   "nav_menu": {},
   "number_sections": true,
   "sideBar": true,
   "skip_h1_title": false,
   "title_cell": "Table of Contents",
   "title_sidebar": "Contents",
   "toc_cell": false,
   "toc_position": {},
   "toc_section_display": true,
   "toc_window_display": false
  },
  "varInspector": {
   "cols": {
    "lenName": 16,
    "lenType": 16,
    "lenVar": 40
   },
   "kernels_config": {
    "python": {
     "delete_cmd_postfix": "",
     "delete_cmd_prefix": "del ",
     "library": "var_list.py",
     "varRefreshCmd": "print(var_dic_list())"
    },
    "r": {
     "delete_cmd_postfix": ") ",
     "delete_cmd_prefix": "rm(",
     "library": "var_list.r",
     "varRefreshCmd": "cat(var_dic_list()) "
    }
   },
   "types_to_exclude": [
    "module",
    "function",
    "builtin_function_or_method",
    "instance",
    "_Feature"
   ],
   "window_display": false
  }
 },
 "nbformat": 4,
 "nbformat_minor": 5
}
